{
 "cells": [
  {
   "cell_type": "code",
   "execution_count": 41,
   "metadata": {},
   "outputs": [],
   "source": [
    "import requests\n",
    "from bs4 import BeautifulSoup\n",
    "from pymongo import MongoClient\n",
    "\n",
    "def scrape_vnexpress_news():\n",
    "    url = 'https://vnexpress.net/tin-tuc-24h'\n",
    "    response = requests.get(url)\n",
    "    \n",
    "    if response.status_code != 200:\n",
    "        print(\"Failed to retrieve the webpage\")\n",
    "        return\n",
    "    \n",
    "    soup = BeautifulSoup(response.content, 'html.parser')\n",
    "    \n",
    "    articles = []\n",
    "    \n",
    "    for item in soup.find_all('article', class_='item-news'):\n",
    "        title = item.find('h3', class_='title-news')\n",
    "        link = item.find('a', href=True)\n",
    "        summary = item.find('p', class_='description')\n",
    "        \n",
    "        if title and link and summary:\n",
    "            full_link = link['href']\n",
    "            if not full_link.startswith('http'):\n",
    "                full_link = 'https://vnexpress.net' + full_link\n",
    "            articles.append({\n",
    "                'title': title.get_text(strip=True),\n",
    "                'link': full_link,\n",
    "                'summary': summary.get_text(strip=True),\n",
    "                'label': 0\n",
    "            })\n",
    "    \n",
    "    return articles"
   ]
  },
  {
   "cell_type": "code",
   "execution_count": 42,
   "metadata": {},
   "outputs": [
    {
     "name": "stdout",
     "output_type": "stream",
     "text": [
      "{'title': 'Mỗi tín chỉ carbon lúa của Việt Nam được định giá 20 USD', 'link': 'https://vnexpress.net/moi-tin-chi-carbon-lua-cua-viet-nam-duoc-dinh-gia-20-usd-4782257.html', 'summary': 'Bộ Nông nghiệp và Phát triển Nông thôn đang định giá mỗi tín chỉ carbon lúa ở mức 20 USD, cao hơn nhiều so với mức giá dự tính của Ngân hàng Thế giới.', 'label': 0}\n",
      "{'title': 'Trung tá công an hy sinh khi khống chế người cầm dao được truy tặng bằng Tổ quốc ghi công', 'link': 'https://vnexpress.net/trung-ta-cong-an-hy-sinh-khi-khong-che-nguoi-cam-dao-duoc-truy-tang-bang-to-quoc-ghi-cong-4782210.html', 'summary': 'Thừa Thiên - HuếTrung tá Trần Duy Hùng, người hy sinh khi làm nhiệm vụ, được Chính phủ truy tặng bằng Tổ quốc ghi công, ngày 16/8.', 'label': 0}\n",
      "{'title': 'Đàn ông sẽ trở nên yếu đuối nếu thiếu chút gia trưởng và độc đoán', 'link': 'https://vnexpress.net/dan-ong-se-tro-nen-yeu-duoi-neu-thieu-chut-gia-truong-va-doc-doan-4782241.html', 'summary': 'Nếu tiếp tục sợ vợ, cả đời này bạn không bao giờ được sống cuộc đời của mình.', 'label': 0}\n",
      "{'title': 'Nga cáo buộc NATO giúp Ukraine tấn công vào Kursk', 'link': 'https://vnexpress.net/nga-cao-buoc-nato-giup-ukraine-tan-cong-vao-kursk-4782229.html', 'summary': 'Trợ lý Điện Kremlin Patrushev cáo buộc NATO và phương Tây đã \"trực tiếp tham gia lập kế hoạch\" giúp Ukraine tấn công vào tỉnh Kursk của Nga.', 'label': 0}\n",
      "{'title': \"Năm người bị bắt liên quan cái chết của sao 'Friends'\", 'link': 'https://vnexpress.net/nam-nguoi-bi-bat-lien-quan-cai-chet-cua-sao-friends-4782109.html', 'summary': 'Năm người bị cáo buộc liên quan cái chết của Matthew Perry năm 2023, trong đó có trợ lý lâu năm và hai bác sĩ.', 'label': 0}\n",
      "{'title': \"'Giỏi Tiếng Anh trong lớp nhưng ra đường không nói chuyện được với ai'\", 'link': 'https://vnexpress.net/gioi-tieng-anh-trong-lop-nhung-ra-duong-khong-noi-chuyen-duoc-voi-ai-4782187.html', 'summary': 'Tiếng Anh không phải môn học mà là một kỹ năng, mà kỹ năng thì phải luyện tập thực tế càng nhiều mới càng nhuyễn được.', 'label': 0}\n",
      "{'title': \"5 người bị xét xử trong cái chết của tài tử 'Friends'\", 'link': 'https://vnexpress.net/5-nguoi-bi-xet-xu-trong-cai-chet-cua-tai-tu-friends-4782227.html', 'summary': 'MỹTheo khám nghiệm tử thi, tài tử Matthew Perry tử vong vì tác dụng phụ cấp tính của ketamine, do đó trợ lý của anh cùng 2 bác sĩ, bà trùm ma túy và tên \"ma cô\" vừa bị xét xử.', 'label': 0}\n",
      "{'title': 'Nhóm CEO đạp xe 550 km đến Nha Trang chạy VnExpress Marathon', 'link': 'https://vnexpress.net/nhom-ceo-dap-xe-550-km-den-nha-trang-chay-vnexpress-marathon-4781309.html', 'summary': '9 người là CEO, lãnh đạo cấp cao các doanh nghiệp thương mại điện tử, đạp xe từ TP HCM đến Nha Trang trong 5 ngày, sau đó hoàn thành 42km chạy bộ, sáng 11/8.', 'label': 0}\n",
      "{'title': 'Đường golf dưới lưới điện Mỹ', 'link': 'https://vnexpress.net/duong-golf-duoi-luoi-dien-my-4782291.html', 'summary': 'Một golfer ở South Carolina tận dụng khu đất trống ngay bên dưới đường truyền tải điện phía sau nhà để làm đường golf phục vụ gia đình và láng giềng.', 'label': 0}\n",
      "{'title': \"Đảo Jeju giảm khách giữa lùm xùm 'chặt chém'\", 'link': 'https://vnexpress.net/dao-jeju-giam-khach-giua-lum-xum-chat-chem-4782084.html', 'summary': 'Hàn QuốcLượng khách trong nước đến đảo Jeju giảm vào cao điểm hè, trong bối cảnh có nhiều phàn nàn món đặc sản thịt lợn đen bị bán \"chặt chém\".', 'label': 0}\n",
      "{'title': 'Khó ngủ, điều trị thế nào?', 'link': 'https://vnexpress.net/kho-ngu-dieu-tri-the-nao-4782221.html', 'summary': 'Trước đây tôi làm ca tối nên đi ngủ lúc 4-5h, khoảng 13h-14h dậy. Nay tôi đã đổi việc, làm giờ hành chính nhưng bị khó ngủ, có uống thuốc ngủ được không? (Ngọc Trinh, TP HCM)', 'label': 0}\n",
      "{'title': 'Octo Finissimo - BST đồng hồ đoạt 8 kỷ lục thế giới của Bvlgari', 'link': 'https://vnexpress.net/octo-finissimo-bst-dong-ho-doat-8-ky-luc-the-gioi-cua-bvlgari-4782209.html', 'summary': 'Ra mắt từ 2014, BST Octo Finissimo liên tục tạo tiếng vang, giúp Bvlgari lập 8 kỷ lục thế giới về độ mỏng, dự trữ năng lượng dao động 52-60 giờ.', 'label': 0}\n",
      "{'title': 'Chuyên gia gợi ý cách chọn chất béo có lợi', 'link': 'https://vnexpress.net/chuyen-gia-goi-y-cach-chon-chat-beo-co-loi-4779740.html', 'summary': 'Người nội trợ có thể thay chất béo có hại từ mỡ, nội tạng động vật bằng cá biển, dầu ăn kết hợp ba thành phần gạo lứt, hướng dương, đậu nành.', 'label': 0}\n",
      "{'title': 'Kỷ lục gia bơi Trung Quốc ước không nổi tiếng', 'link': 'https://vnexpress.net/ky-luc-gia-boi-trung-quoc-uoc-khong-noi-tieng-4782260.html', 'summary': 'Trung QuốcPan Zhanle - HC vàng bơi 100m tự do Olympic 2024 - bức bối vì sự chú ý của người hâm mộ, thậm chí đã giải tán nhóm fan duy nhất trên mạng xã hội.', 'label': 0}\n",
      "{'title': 'Đại tá Trần Xuân Ánh làm Giám đốc Công an Thái Bình', 'link': 'https://vnexpress.net/dai-ta-tran-xuan-anh-lam-giam-doc-cong-an-thai-binh-4782226.html', 'summary': 'Đại tá Trần Xuân Ánh, Giám đốc Công an tỉnh Trà Vinh, được điều động giữ chức Giám đốc Công an tỉnh Thái Bình.', 'label': 0}\n",
      "{'title': 'Xe tăng Challenger 2 có thể đã tham chiến tại tỉnh Kursk', 'link': 'https://vnexpress.net/xe-tang-challenger-2-co-the-da-tham-chien-tai-tinh-kursk-4782126.html', 'summary': 'Truyền thông Anh nói rằng Ukraine đã triển khai xe tăng Challenger 2 cho chiến dịch tại Kursk, lực lượng Nga tuyên bố UAV Lancet đã phá hủy một chiếc.', 'label': 0}\n",
      "{'title': 'Khoảnh khắc tổ hợp HIMARS Ukraine hứng tên lửa Iskander', 'link': 'https://vnexpress.net/khoanh-khac-to-hop-himars-ukraine-hung-ten-lua-iskander-4782086.html', 'summary': 'UAV Nga theo dõi pháo phản lực HIMARS Ukraine khai hỏa nhằm vào tỉnh Kursk, chỉ điểm cho tên lửa Iskander tập kích khi nó về nơi tập kết.', 'label': 0}\n",
      "{'title': 'Dàn thí sinh Miss Hong Kong diễn bikini', 'link': 'https://vnexpress.net/dan-thi-sinh-miss-hong-kong-dien-bikini-4782215.html', 'summary': '15 cô gái vào chung kết Hoa hậu Hong Kong đều lần đầu trình diễn áo tắm trước khán giả.', 'label': 0}\n",
      "{'title': 'HoREA đề xuất TP HCM xem lại phương thức tính bảng giá đất điều chỉnh', 'link': 'https://vnexpress.net/horea-de-xuat-tp-hcm-xem-lai-phuong-thuc-tinh-bang-gia-dat-dieu-chinh-4782212.html', 'summary': 'Hiệp hội bất động sản TP HCM kiến nghị thành phố xem lại phương thức khảo sát bảng giá đất điều chỉnh vì cho rằng cách tính toán chưa hợp lý.', 'label': 0}\n",
      "{'title': 'Chương trình quốc gia tạo ra các sản phẩm bằng công nghệ tiên tiến', 'link': 'https://vnexpress.net/chuong-trinh-quoc-gia-tao-ra-cac-san-pham-bang-cong-nghe-tien-tien-4782225.html', 'summary': 'Khánh HòaTheo Thứ trưởng Trần Hồng Thái, Chương trình sản phẩm quốc gia bước đầu đạt một số kết quả có tính lan tỏa, đã hình thành các sản phẩm của Việt Nam bằng công nghệ tiên tiến, có quy mô lớn.', 'label': 0}\n",
      "{'title': 'Cựu danh thủ Man Utd ám chỉ mùa này là cơ hội cuối của Ten Hag', 'link': 'https://vnexpress.net/cuu-danh-thu-man-utd-am-chi-mua-nay-la-co-hoi-cuoi-cua-ten-hag-4782172.html', 'summary': 'AnhTheo cựu hậu vệ Jaap Stam, HLV Erik ten Hag không còn lý do để bào chữa nếu Man Utd không chơi tốt hơn mùa trước.', 'label': 0}\n",
      "{'title': 'Những điều người kém tự tin hay làm', 'link': 'https://vnexpress.net/nhung-dieu-nguoi-kem-tu-tin-hay-lam-4782211.html', 'summary': 'Những người cảm thấy tự ti thường tự đề cao mình để xoa dịu cảm giác yếu đuối, tránh đối mặt với bản chất thật.', 'label': 0}\n",
      "{'title': 'Tiệm bánh mì 79.000 đồng một ổ ở TP HCM', 'link': 'https://vnexpress.net/tiem-banh-mi-79-000-dong-mot-o-o-tp-hcm-4780720.html', 'summary': 'Tiệm ở quận 1 bán bánh mì với quy trình khép kín, giá 79.000 đồng một ổ, được cho là \"đắt nhất Sài Gòn\".', 'label': 0}\n",
      "{'title': 'Bí quyết giúp Singapore trở thành Vùng Xanh trường thọ', 'link': 'https://vnexpress.net/bi-quyet-giup-singapore-tro-thanh-vung-xanh-truong-tho-4782231.html', 'summary': 'Tuổi thọ trung bình của dân Singapore tăng cao do chương trình chăm sóc sức khỏe tối ưu, chính phủ thiết kế các khu nhà gần công viên, đường đi bộ để mọi người vận động.', 'label': 0}\n",
      "{'title': \"Từ 'công chúa' nhà Shinawatra đến nữ thủ tướng trẻ nhất Thái Lan\", 'link': 'https://vnexpress.net/tu-cong-chua-nha-shinawatra-den-nu-thu-tuong-tre-nhat-thai-lan-4782005.html', 'summary': 'Từng được gọi là \"công chúa\" của gia tộc Shinawatra, bà Paetongtarn, con gái ông Thaksin, đã trỗi dậy trên chính trường để trở thành thủ tướng trẻ nhất Thái Lan.', 'label': 0}\n",
      "{'title': 'Chứng khoán vượt 1.250 điểm', 'link': 'https://vnexpress.net/chung-khoan-hom-nay-16-8-hon-400-co-phieu-tang-gia-4782233.html', 'summary': 'Gần 83% cổ phiếu trên sàn HoSE tăng giá, trong đó có 19 mã chạm trần, VN-Index tích lũy 27 điểm để lấy lại mốc kháng cự quan trọng 1.250 điểm.', 'label': 0}\n",
      "{'title': 'EZ-6 - sedan toàn cầu mới của Mazda', 'link': 'https://vnexpress.net/ez-6-sedan-toan-cau-moi-cua-mazda-4782080.html', 'summary': 'Mẫu sedan mới của Mazda bán ra đầu tiên ở Trung Quốc và châu Âu, tùy chọn thuần điện EV hoặc hybrid cắm điện PHEV.', 'label': 0}\n",
      "{'title': \"Phong cách thời trang của 'nam thần đấu kiếm' Hàn Quốc\", 'link': 'https://vnexpress.net/phong-cach-thoi-trang-cua-nam-than-dau-kiem-han-quoc-4782097.html', 'summary': 'Oh Sang Uk - được mệnh danh \"nam thần đấu kiếm\" Hàn - cao 1,92 m, được giới thời trang nhận xét đẹp hài hòa, rắn rỏi.', 'label': 0}\n",
      "{'title': 'Ăn uống thế nào giúp não minh mẫn', 'link': 'https://vnexpress.net/an-uong-the-nao-giup-nao-minh-man-4782162.html', 'summary': 'Ưu tiên thực phẩm giàu chất béo lành mạnh, protein nạc, trái cây, các loại hạt, đồng thời hạn chế thịt chế biến sẵn góp phần bảo vệ chức năng nhận thức khi về già.', 'label': 0}\n",
      "{'title': '5 cách thu nhỏ lỗ chân lông', 'link': 'https://vnexpress.net/5-cach-thu-nho-lo-chan-long-4782138.html', 'summary': 'Công nghệ vi kim RF, lăn kim, laser, tiêm meso hoặc thay da sinh học giúp se khít lỗ chân lông to.', 'label': 0}\n"
     ]
    }
   ],
   "source": [
    "# Lấy dữ liệu từ trang VNExpress\n",
    "articles = scrape_vnexpress_news()\n",
    "for article in articles:\n",
    "    print(article)"
   ]
  },
  {
   "cell_type": "code",
   "execution_count": 44,
   "metadata": {},
   "outputs": [],
   "source": [
    "def store_articles_to_mongodb(articles):\n",
    "    try:\n",
    "        # Kết nối đến MongoDB (Localhost hoặc sử dụng URI cho MongoDB trên cloud)\n",
    "        client = MongoClient('mongodb://localhost:27017')\n",
    "        \n",
    "        # Tạo một cơ sở dữ liệu mới hoặc kết nối đến một cơ sở dữ liệu đã có\n",
    "        db = client['news_database']\n",
    "        \n",
    "        # Tạo một collection mới hoặc kết nối đến một collection đã có\n",
    "        collection = db['VNExpress_news']\n",
    "        \n",
    "        # Chèn các bài báo vào collection\n",
    "        if articles:\n",
    "            collection.insert_many(articles)\n",
    "            print(f\"Lưu {len(articles)} tin tức vào MongoDB.\")\n",
    "        else:\n",
    "            print(\"Không có tin tức nào được lưu\")\n",
    "        \n",
    "    except Exception as e:\n",
    "        print(f\"An error occurred: {e}\")\n",
    "    \n",
    "    finally:\n",
    "        # Đóng kết nối\n",
    "        client.close()"
   ]
  },
  {
   "cell_type": "code",
   "execution_count": 45,
   "metadata": {},
   "outputs": [
    {
     "name": "stdout",
     "output_type": "stream",
     "text": [
      "Lưu 30 tin tức vào MongoDB.\n"
     ]
    }
   ],
   "source": [
    "articles = scrape_vnexpress_news()\n",
    "if articles:\n",
    "    store_articles_to_mongodb(articles)"
   ]
  }
 ],
 "metadata": {
  "kernelspec": {
   "display_name": "Python 3",
   "language": "python",
   "name": "python3"
  },
  "language_info": {
   "codemirror_mode": {
    "name": "ipython",
    "version": 3
   },
   "file_extension": ".py",
   "mimetype": "text/x-python",
   "name": "python",
   "nbconvert_exporter": "python",
   "pygments_lexer": "ipython3",
   "version": "3.12.4"
  }
 },
 "nbformat": 4,
 "nbformat_minor": 2
}
