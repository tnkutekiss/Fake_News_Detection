{
 "cells": [
  {
   "cell_type": "code",
   "execution_count": 4,
   "metadata": {},
   "outputs": [
    {
     "name": "stderr",
     "output_type": "stream",
     "text": [
      "C:\\Users\\admin\\AppData\\Local\\Packages\\PythonSoftwareFoundation.Python.3.12_qbz5n2kfra8p0\\LocalCache\\local-packages\\Python312\\site-packages\\tqdm\\auto.py:21: TqdmWarning: IProgress not found. Please update jupyter and ipywidgets. See https://ipywidgets.readthedocs.io/en/stable/user_install.html\n",
      "  from .autonotebook import tqdm as notebook_tqdm\n"
     ]
    }
   ],
   "source": [
    "import re\n",
    "import pandas as pd\n",
    "import torch\n",
    "from torch.utils.data import DataLoader, TensorDataset, random_split\n",
    "from transformers import AutoModelForSequenceClassification, AutoTokenizer, AdamW\n",
    "from sklearn.model_selection import train_test_split, cross_val_score\n",
    "from sklearn.feature_extraction.text import TfidfVectorizer\n",
    "from sklearn.metrics import accuracy_score, classification_report\n",
    "from nltk.corpus import wordnet\n",
    "from tensorflow.keras.models import Sequential\n",
    "from tensorflow.keras.layers import Dense, Embedding, Input\n",
    "from tensorflow.keras.preprocessing.text import Tokenizer\n",
    "from tensorflow.keras.preprocessing.sequence import pad_sequences\n",
    "from tensorflow.keras.callbacks import ModelCheckpoint, EarlyStopping\n",
    "import numpy as np\n",
    "from tensorflow.keras.utils import to_categorical"
   ]
  },
  {
   "cell_type": "code",
   "execution_count": 5,
   "metadata": {},
   "outputs": [
    {
     "name": "stdout",
     "output_type": "stream",
     "text": [
      "['C:\\\\Users\\\\admin/nltk_data', 'C:\\\\Program Files\\\\WindowsApps\\\\PythonSoftwareFoundation.Python.3.12_3.12.1520.0_x64__qbz5n2kfra8p0\\\\nltk_data', 'C:\\\\Program Files\\\\WindowsApps\\\\PythonSoftwareFoundation.Python.3.12_3.12.1520.0_x64__qbz5n2kfra8p0\\\\share\\\\nltk_data', 'C:\\\\Program Files\\\\WindowsApps\\\\PythonSoftwareFoundation.Python.3.12_3.12.1520.0_x64__qbz5n2kfra8p0\\\\lib\\\\nltk_data', 'C:\\\\Users\\\\admin\\\\AppData\\\\Roaming\\\\nltk_data', 'C:\\\\nltk_data', 'D:\\\\nltk_data', 'E:\\\\nltk_data', 'Data/']\n"
     ]
    },
    {
     "name": "stderr",
     "output_type": "stream",
     "text": [
      "[nltk_data] Downloading package wordnet to\n",
      "[nltk_data]     C:\\Users\\admin\\AppData\\Roaming\\nltk_data...\n",
      "[nltk_data]   Package wordnet is already up-to-date!\n"
     ]
    }
   ],
   "source": [
    "import nltk\n",
    "nltk.download('wordnet')\n",
    "nltk.data.path.append('Data/')\n",
    "print(nltk.data.path)"
   ]
  },
  {
   "cell_type": "code",
   "execution_count": 6,
   "metadata": {},
   "outputs": [],
   "source": [
    "def retrieve_articles_from_csv(file_path):\n",
    "    # Đọc dữ liệu từ file CSV\n",
    "    df = pd.read_csv(file_path)\n",
    "    \n",
    "    # Chuyển đổi DataFrame thành danh sách các từ điển (records)\n",
    "    articles = df.to_dict(orient='records')\n",
    "    \n",
    "    return articles"
   ]
  },
  {
   "cell_type": "code",
   "execution_count": 7,
   "metadata": {},
   "outputs": [
    {
     "name": "stderr",
     "output_type": "stream",
     "text": [
      "<>:7: SyntaxWarning: invalid escape sequence '\\['\n",
      "<>:9: SyntaxWarning: invalid escape sequence '\\S'\n",
      "<>:13: SyntaxWarning: invalid escape sequence '\\w'\n",
      "<>:7: SyntaxWarning: invalid escape sequence '\\['\n",
      "<>:9: SyntaxWarning: invalid escape sequence '\\S'\n",
      "<>:13: SyntaxWarning: invalid escape sequence '\\w'\n",
      "C:\\Users\\admin\\AppData\\Local\\Temp\\ipykernel_13520\\897105695.py:7: SyntaxWarning: invalid escape sequence '\\['\n",
      "  text = re.sub('\\[.*?\\]', '', text)\n",
      "C:\\Users\\admin\\AppData\\Local\\Temp\\ipykernel_13520\\897105695.py:9: SyntaxWarning: invalid escape sequence '\\S'\n",
      "  text = re.sub('https?://\\S+|www\\.\\S+', '', text)\n",
      "C:\\Users\\admin\\AppData\\Local\\Temp\\ipykernel_13520\\897105695.py:13: SyntaxWarning: invalid escape sequence '\\w'\n",
      "  text = re.sub('\\w*\\d\\w*', '', text)\n"
     ]
    }
   ],
   "source": [
    "import re\n",
    "import string\n",
    "\n",
    "\n",
    "def preprocess_text(text):\n",
    "    text = text.lower()\n",
    "    text = re.sub('\\[.*?\\]', '', text)\n",
    "    text = re.sub(\"\\\\W\",\" \",text) \n",
    "    text = re.sub('https?://\\S+|www\\.\\S+', '', text)\n",
    "    text = re.sub('<.*?>+', '', text)\n",
    "    text = re.sub('[%s]' % re.escape(string.punctuation), '', text)\n",
    "    text = re.sub('\\n', '', text)\n",
    "    text = re.sub('\\w*\\d\\w*', '', text)    \n",
    "    return text"
   ]
  },
  {
   "cell_type": "code",
   "execution_count": 8,
   "metadata": {},
   "outputs": [],
   "source": [
    "def synonym_replacement(text):\n",
    "    words = text.split()\n",
    "    new_words = words.copy()\n",
    "    for i, word in enumerate(words):\n",
    "        synonyms = wordnet.synsets(word)\n",
    "        if synonyms:\n",
    "            new_words[i] = synonyms[0].lemmas()[0].name()\n",
    "    return ' '.join(new_words)\n",
    "\n"
   ]
  },
  {
   "cell_type": "code",
   "execution_count": 9,
   "metadata": {},
   "outputs": [],
   "source": [
    "def cross_validation(model, X, y):\n",
    "    scores = cross_val_score(model, X, y, cv=5)\n",
    "    print(f\"Cross-validation Accuracy: {np.mean(scores)}\")"
   ]
  },
  {
   "cell_type": "code",
   "execution_count": 10,
   "metadata": {},
   "outputs": [],
   "source": [
    "# def build_lstm_model(vocab_size, embedding_dim, input_length):\n",
    "#     model = Sequential()\n",
    "#     model.add(Input(shape=(input_length,)))  # Thêm lớp Input với kích thước đầu vào\n",
    "#     model.add(Embedding(input_dim=vocab_size, output_dim=embedding_dim))\n",
    "#     model.add(LSTM(100, return_sequences=True))\n",
    "#     model.add(LSTM(100))\n",
    "#     model.add(Dense(2, activation='softmax'))\n",
    "#     model.compile(optimizer='adam', loss='categorical_crossentropy', metrics=['accuracy'])\n",
    "#     return model"
   ]
  },
  {
   "cell_type": "markdown",
   "metadata": {},
   "source": [
    "Thống kê dữ liệu từ bộ DB từ đó tiền xử lý dữ liệu"
   ]
  },
  {
   "cell_type": "code",
   "execution_count": 11,
   "metadata": {},
   "outputs": [
    {
     "name": "stdout",
     "output_type": "stream",
     "text": [
      "Tên các cột trong DataFrame: Index(['text', 'label'], dtype='object')\n"
     ]
    }
   ],
   "source": [
    "import pandas as pd\n",
    "\n",
    "# Hàm chính# Đọc dữ liệu từ file CSV\n",
    "df = pd.read_csv('Data/VFND-vietnamese-fake-news-datasets/CSV/vn_news_226_tlfr.csv')\n",
    "\n",
    "# Kiểm tra tên các cột trong DataFrame\n",
    "print(\"Tên các cột trong DataFrame:\", df.columns)\n",
    "\n",
    "# Tiền xử lý và mở rộng văn bản\n",
    "df['processed_text'] = df['text'].apply(preprocess_text)  # Tiền xử lý văn bản gốc\n",
    "df['augmented_text'] = df['processed_text'].apply(synonym_replacement)  # Mở rộng văn bản với thay thế từ đồng nghĩa\n",
    "# Kết hợp văn bản gốc và văn bản mở rộng vào một DataFrame mới\n",
    "df_combined = pd.concat([\n",
    "    df[['processed_text']].rename(columns={'processed_text': 'text'}),\n",
    "    df[['augmented_text']].rename(columns={'augmented_text': 'text'})\n",
    "], axis=0, ignore_index=True)\n",
    "\n",
    "# Thêm nhãn vào DataFrame kết hợp\n",
    "df_combined['label'] = df['label'].tolist() * 2 # Nhân đôi nhãn để phù hợp với số lượng văn bản kết hợp\n",
    "# Chuẩn bị dữ liệu đầu vào và nhãn cho mô hình\n",
    "X = df_combined['text']  # Văn bản đầu vào cho mô hình\n",
    "y = df_combined['label']  # Nhãn tương ứng\n"
   ]
  },
  {
   "cell_type": "markdown",
   "metadata": {},
   "source": [
    "Thống kê bộ dữ liệu"
   ]
  },
  {
   "cell_type": "code",
   "execution_count": 12,
   "metadata": {},
   "outputs": [
    {
     "name": "stdout",
     "output_type": "stream",
     "text": [
      "Phân bố nhãn sau khi kết hợp:\n",
      "label\n",
      "0    246\n",
      "1    206\n",
      "Name: count, dtype: int64\n",
      "================================================================\n",
      "Dữ liệu đầu vào (X):\n",
      "0      thủ tướng abe cúi đầu xin lỗi vì hành động phi...\n",
      "1      thủ tướng nhật cúi đầu xin lỗi vì tinh thần ph...\n",
      "2      choáng  cơ trưởng đeo khăn quàng quẩy banh nóc...\n",
      "3      chưa bao giờ nhạc kpop lại dễ hát đến thế    g...\n",
      "4      đại học hutech sẽ áp dụng cải cách  tiếq việt ...\n",
      "                             ...                        \n",
      "446    trường sơn giành hcv tại giải cờ vua đồng đội ...\n",
      "447    chuyện về chàng sinh viên luật kiện tướng lê t...\n",
      "448    tiền đạo Malaysia tôi đã có cách vượt qua hàng...\n",
      "449    các bạn tin không miễn phí chiến dịch quảng bá...\n",
      "450    thân gởi các bạn yêu quý tôi nghĩ các bạn nên ...\n",
      "Name: text, Length: 451, dtype: object\n",
      "================================================================\n",
      "Nhãn (y):\n",
      "0      1\n",
      "1      1\n",
      "2      1\n",
      "3      1\n",
      "4      1\n",
      "      ..\n",
      "446    0\n",
      "447    0\n",
      "448    0\n",
      "449    1\n",
      "450    1\n",
      "Name: label, Length: 451, dtype: int64\n"
     ]
    }
   ],
   "source": [
    "# Kiểm tra đầu ra\n",
    "print(\"Phân bố nhãn sau khi kết hợp:\")\n",
    "print(y.value_counts())\n",
    "print(\"================================================================\")\n",
    "print(\"Dữ liệu đầu vào (X):\")\n",
    "print(X.head(451))\n",
    "print(\"================================================================\")\n",
    "print(\"Nhãn (y):\")\n",
    "print( y.head(451))"
   ]
  },
  {
   "cell_type": "code",
   "execution_count": 13,
   "metadata": {},
   "outputs": [
    {
     "data": {
      "text/plain": [
       "text              0\n",
       "label             0\n",
       "processed_text    0\n",
       "augmented_text    0\n",
       "dtype: int64"
      ]
     },
     "execution_count": 13,
     "metadata": {},
     "output_type": "execute_result"
    }
   ],
   "source": [
    "df.isnull().sum()"
   ]
  },
  {
   "cell_type": "code",
   "execution_count": 14,
   "metadata": {},
   "outputs": [
    {
     "name": "stderr",
     "output_type": "stream",
     "text": [
      "C:\\Users\\admin\\AppData\\Local\\Temp\\ipykernel_13520\\4035595335.py:6: FutureWarning: \n",
      "\n",
      "Passing `palette` without assigning `hue` is deprecated and will be removed in v0.14.0. Assign the `x` variable to `hue` and set `legend=False` for the same effect.\n",
      "\n",
      "  sns.countplot(x='label', data=df_combined, palette='viridis')\n"
     ]
    },
    {
     "data": {
      "image/png": "[encoded data removed]",
      "text/plain": [
       "<Figure size 800x600 with 1 Axes>"
      ]
     },
     "metadata": {},
     "output_type": "display_data"
    }
   ],
   "source": [
    "# Vẽ biểu đồ tròn để trực quan hóa phân bố nhãn\n",
    "import matplotlib.pyplot as plt\n",
    "import seaborn as sns\n",
    "\n",
    "plt.figure(figsize=(8, 6))\n",
    "sns.countplot(x='label', data=df_combined, palette='viridis')\n",
    "plt.title('Phân bố Nhãn Sau Khi Kết Hợp')\n",
    "plt.xlabel('Nhãn')\n",
    "plt.ylabel('Số Lượng')\n",
    "plt.xticks(ticks=[0, 1], labels=['Giả', 'Thật'])  # Thay đổi nhãn nếu cần thiết\n",
    "plt.show()"
   ]
  },
  {
   "cell_type": "markdown",
   "metadata": {},
   "source": [
    "Sử dụng mô hình PhoBert để Train cho bài toán"
   ]
  },
  {
   "cell_type": "code",
   "execution_count": 213,
   "metadata": {},
   "outputs": [
    {
     "name": "stderr",
     "output_type": "stream",
     "text": [
      "C:\\Users\\admin\\AppData\\Local\\Packages\\PythonSoftwareFoundation.Python.3.12_qbz5n2kfra8p0\\LocalCache\\local-packages\\Python312\\site-packages\\huggingface_hub\\file_download.py:148: UserWarning: `huggingface_hub` cache-system uses symlinks by default to efficiently store duplicated files but your machine does not support them in C:\\Users\\admin\\.cache\\huggingface\\hub\\models--vinai--phobert-base. Caching files will still work but in a degraded version that might require more space on your disk. This warning can be disabled by setting the `HF_HUB_DISABLE_SYMLINKS_WARNING` environment variable. For more details, see https://huggingface.co/docs/huggingface_hub/how-to-cache#limitations.\n",
      "To support symlinks on Windows, you either need to activate Developer Mode or to run Python as an administrator. In order to see activate developer mode, see this article: https://docs.microsoft.com/en-us/windows/apps/get-started/enable-your-device-for-development\n",
      "  warnings.warn(message)\n",
      "Some weights of RobertaForSequenceClassification were not initialized from the model checkpoint at vinai/phobert-base and are newly initialized: ['classifier.dense.bias', 'classifier.dense.weight', 'classifier.out_proj.bias', 'classifier.out_proj.weight']\n",
      "You should probably TRAIN this model on a down-stream task to be able to use it for predictions and inference.\n"
     ]
    }
   ],
   "source": [
    "model_name = \"vinai/phobert-base\"\n",
    "tokenizer = AutoTokenizer.from_pretrained(model_name)\n",
    "model = AutoModelForSequenceClassification.from_pretrained(model_name, num_labels=2)"
   ]
  },
  {
   "cell_type": "markdown",
   "metadata": {},
   "source": [
    "Xử lý Mapping dataset vào mô hình"
   ]
  },
  {
   "cell_type": "code",
   "execution_count": 214,
   "metadata": {},
   "outputs": [
    {
     "name": "stderr",
     "output_type": "stream",
     "text": [
      "Truncation was not explicitly activated but `max_length` is provided a specific value, please use `truncation=True` to explicitly truncate examples to max length. Defaulting to 'longest_first' truncation strategy. If you encode pairs of sequences (GLUE-style) with the tokenizer you can select this strategy more precisely by providing a specific strategy to `truncation`.\n",
      "C:\\Users\\admin\\AppData\\Local\\Packages\\PythonSoftwareFoundation.Python.3.12_qbz5n2kfra8p0\\LocalCache\\local-packages\\Python312\\site-packages\\transformers\\tokenization_utils_base.py:2688: FutureWarning: The `pad_to_max_length` argument is deprecated and will be removed in a future version, use `padding=True` or `padding='longest'` to pad to the longest sequence in the batch, or use `padding='max_length'` to pad to a max length. In this case, you can give a specific length with `max_length` (e.g. `max_length=45`) or leave max_length to None to pad to the maximal input size of the model (e.g. 512 for Bert).\n",
      "  warnings.warn(\n"
     ]
    }
   ],
   "source": [
    "def preprocess_data(X, tokenizer, max_len=256):\n",
    "    input_ids, attention_masks = [], []\n",
    "\n",
    "    for sentence in X:\n",
    "        encoded_dict = tokenizer.encode_plus(\n",
    "            sentence,                      \n",
    "            add_special_tokens=True,       \n",
    "            max_length=max_len,            \n",
    "            pad_to_max_length=True,\n",
    "            return_attention_mask=True,    \n",
    "            return_tensors='pt',           \n",
    "        )\n",
    "        input_ids.append(encoded_dict['input_ids'])\n",
    "        attention_masks.append(encoded_dict['attention_mask'])\n",
    "\n",
    "    input_ids = torch.cat(input_ids, dim=0)\n",
    "    attention_masks = torch.cat(attention_masks, dim=0)\n",
    "    \n",
    "    return input_ids, attention_masks\n",
    "    \n",
    "X_input_ids, X_attention_masks = preprocess_data(X, tokenizer)\n",
    "y_tensor = torch.tensor(y.values)\n"
   ]
  },
  {
   "cell_type": "markdown",
   "metadata": {},
   "source": [
    "Thiết lập các thông số cần thiết"
   ]
  },
  {
   "cell_type": "code",
   "execution_count": 215,
   "metadata": {},
   "outputs": [],
   "source": [
    "train_inputs, val_inputs, train_labels, val_labels = train_test_split(X_input_ids, y_tensor, test_size=0.2, random_state=42)\n",
    "train_masks, val_masks, _, _ = train_test_split(X_attention_masks, X_input_ids, test_size=0.2, random_state=42)\n"
   ]
  },
  {
   "cell_type": "code",
   "execution_count": 216,
   "metadata": {},
   "outputs": [
    {
     "name": "stderr",
     "output_type": "stream",
     "text": [
      "C:\\Users\\admin\\AppData\\Local\\Packages\\PythonSoftwareFoundation.Python.3.12_qbz5n2kfra8p0\\LocalCache\\local-packages\\Python312\\site-packages\\transformers\\optimization.py:457: FutureWarning: This implementation of AdamW is deprecated and will be removed in a future version. Use the PyTorch implementation torch.optim.AdamW instead, or set `no_deprecation_warning=True` to disable this warning\n",
      "  warnings.warn(\n"
     ]
    }
   ],
   "source": [
    "batch_size = 16\n",
    "\n",
    "train_data = TensorDataset(train_inputs, train_masks, train_labels)\n",
    "val_data = TensorDataset(val_inputs, val_masks, val_labels)\n",
    "\n",
    "train_dataloader = DataLoader(train_data, batch_size=batch_size, shuffle=True)\n",
    "val_dataloader = DataLoader(val_data, batch_size=batch_size, shuffle=False)\n",
    "\n",
    "optimizer = AdamW(model.parameters(), lr=2e-5, eps=1e-8)\n"
   ]
  },
  {
   "cell_type": "markdown",
   "metadata": {},
   "source": [
    "Training Model cho bài toán "
   ]
  },
  {
   "cell_type": "code",
   "execution_count": 218,
   "metadata": {},
   "outputs": [
    {
     "name": "stdout",
     "output_type": "stream",
     "text": [
      "Average training loss for epoch 0: 0.3009901454915171\n",
      "Validation accuracy for epoch 0: 0.9535984848484849\n",
      "Average training loss for epoch 1: 0.10161460490654343\n",
      "Validation accuracy for epoch 1: 0.9640151515151515\n",
      "Average training loss for epoch 2: 0.05278598824920862\n",
      "Validation accuracy for epoch 2: 0.9744318181818182\n",
      "Average training loss for epoch 3: 0.08625260720272428\n",
      "Validation accuracy for epoch 3: 0.9791666666666666\n"
     ]
    },
    {
     "data": {
      "text/plain": [
       "('phobert_fake_news_model\\\\tokenizer_config.json',\n",
       " 'phobert_fake_news_model\\\\special_tokens_map.json',\n",
       " 'phobert_fake_news_model\\\\vocab.txt',\n",
       " 'phobert_fake_news_model\\\\bpe.codes',\n",
       " 'phobert_fake_news_model\\\\added_tokens.json')"
      ]
     },
     "execution_count": 218,
     "metadata": {},
     "output_type": "execute_result"
    }
   ],
   "source": [
    "epochs = 4\n",
    "\n",
    "for epoch in range(epochs):\n",
    "    model.train()\n",
    "    total_loss = 0\n",
    "\n",
    "    for batch in train_dataloader:\n",
    "        b_input_ids, b_input_mask, b_labels = batch\n",
    "\n",
    "        model.zero_grad()        \n",
    "\n",
    "        outputs = model(b_input_ids, attention_mask=b_input_mask, labels=b_labels)\n",
    "        loss = outputs.loss\n",
    "        total_loss += loss.item()\n",
    "\n",
    "        loss.backward()\n",
    "\n",
    "        optimizer.step()\n",
    "\n",
    "    avg_train_loss = total_loss / len(train_dataloader)\n",
    "    print(f\"Average training loss for epoch {epoch}: {avg_train_loss}\")\n",
    "\n",
    "    # Validation\n",
    "    model.eval()\n",
    "    val_accuracy = 0\n",
    "    for batch in val_dataloader:\n",
    "        b_input_ids, b_input_mask, b_labels = batch\n",
    "        with torch.no_grad():        \n",
    "            outputs = model(b_input_ids, attention_mask=b_input_mask)\n",
    "        logits = outputs.logits\n",
    "        predictions = torch.argmax(logits, dim=1).flatten()\n",
    "\n",
    "        val_accuracy += (predictions == b_labels).cpu().numpy().mean()\n",
    "\n",
    "    val_accuracy /= len(val_dataloader)\n",
    "    print(f\"Validation accuracy for epoch {epoch}: {val_accuracy}\")\n",
    "\n",
    "# Save the model\n",
    "model.save_pretrained('phobert_fake_news_model')\n",
    "tokenizer.save_pretrained('phobert_fake_news_model')\n"
   ]
  },
  {
   "cell_type": "markdown",
   "metadata": {},
   "source": [
    "Sử dụng TF-IDF với Logistic Regression"
   ]
  },
  {
   "cell_type": "code",
   "execution_count": 200,
   "metadata": {},
   "outputs": [
    {
     "name": "stdout",
     "output_type": "stream",
     "text": [
      "Cross-validation Accuracy: 0.9336752136752138\n"
     ]
    }
   ],
   "source": [
    "vectorizer = TfidfVectorizer(max_features=5000)\n",
    "X_tfidf = vectorizer.fit_transform(X)\n",
    "    \n",
    "model_lr = LogisticRegression()\n",
    "cross_validation(model_lr, X_tfidf, y)"
   ]
  },
  {
   "cell_type": "markdown",
   "metadata": {},
   "source": [
    "Chia tập huấn luyện và đánh giá Logistic Regression"
   ]
  },
  {
   "cell_type": "code",
   "execution_count": 201,
   "metadata": {},
   "outputs": [
    {
     "name": "stdout",
     "output_type": "stream",
     "text": [
      "Logistic Regression Accuracy: 0.9557522123893806\n",
      "Classification Report:\n",
      "               precision    recall  f1-score   support\n",
      "\n",
      "           0       0.93      0.98      0.96        55\n",
      "           1       0.98      0.93      0.96        58\n",
      "\n",
      "    accuracy                           0.96       113\n",
      "   macro avg       0.96      0.96      0.96       113\n",
      "weighted avg       0.96      0.96      0.96       113\n",
      "\n"
     ]
    }
   ],
   "source": [
    "\n",
    "X_train, X_test, y_train, y_test = train_test_split(X_tfidf, y, test_size=0.25, random_state=42)\n",
    "model_lr.fit(X_train, y_train)\n",
    "y_pred = model_lr.predict(X_test)\n",
    "    \n",
    "print(\"Logistic Regression Accuracy:\", accuracy_score(y_test, y_pred))\n",
    "print(\"Classification Report:\\n\", classification_report(y_test, y_pred))"
   ]
  },
  {
   "cell_type": "markdown",
   "metadata": {},
   "source": [
    "Tiền xử lý dữ liệu"
   ]
  },
  {
   "cell_type": "code",
   "execution_count": 202,
   "metadata": {},
   "outputs": [],
   "source": [
    "\n",
    "tokenizer = Tokenizer(num_words=5000)\n",
    "tokenizer.fit_on_texts(X)\n",
    "X_seq = tokenizer.texts_to_sequences(X)\n",
    "X_padded = pad_sequences(X_seq, maxlen=500)\n",
    "\n",
    "# Chuyển đổi nhãn thành định dạng phân loại\n",
    "y_categorical = to_categorical(y, num_classes=2)"
   ]
  },
  {
   "cell_type": "markdown",
   "metadata": {},
   "source": [
    "Xây dựng mô hình"
   ]
  },
  {
   "cell_type": "code",
   "execution_count": 203,
   "metadata": {},
   "outputs": [],
   "source": [
    "vocab_size = len(tokenizer.word_index) + 1\n",
    "embedding_dim = 100\n",
    "input_length = 500# Đây là chiều dài tối đa của chuỗi đầu vào\n",
    "model_lstm = build_lstm_model(vocab_size=vocab_size, embedding_dim=embedding_dim, input_length=input_length)\n",
    "\n",
    "# Chia dữ liệu thành tập huấn luyện và tập kiểm tra\n",
    "X_train, X_test, y_train, y_test = train_test_split(X_padded, y_categorical, test_size=0.2, random_state=42)\n",
    "\n",
    "# Định nghĩa callback để lưu trọng số tốt nhất\n",
    "checkpoint = ModelCheckpoint('best_weights.keras', monitor='val_loss', save_best_only=True, mode='min', verbose=1)\n",
    "\n",
    "# Định nghĩa callback để dừng sớm khi độ hội tụ đạt yêu cầu\n",
    "early_stopping = EarlyStopping(monitor='val_loss', patience=3, restore_best_weights=True, verbose=1, mode='min')\n",
    "\n",
    "# Huấn luyện mô hình với các callback\n",
    "model_lstm.fit(X_train, y_train, epochs=10, batch_size=64, validation_data=(X_test, y_test), callbacks=[checkpoint, early_stopping])\n",
    "\n",
    "# Lưu mô hình hoàn chỉnh sau khi huấn luyện\n",
    "model_lstm.save('fake_news_model.h5')"
   ]
  },
  {
   "cell_type": "markdown",
   "metadata": {},
   "source": [
    "Đánh giá mô hình LSTM"
   ]
  },
  {
   "cell_type": "code",
   "execution_count": 204,
   "metadata": {},
   "outputs": [],
   "source": [
    "loss, accuracy = model_lstm.evaluate(X_test, y_test)\n",
    "print(f\"LSTM Accuracy: {accuracy}\")"
   ]
  },
  {
   "cell_type": "markdown",
   "metadata": {},
   "source": [
    "Tìm và quét các bài báo trên nguồn VNExpress và lưu và MongoDB"
   ]
  },
  {
   "cell_type": "code",
   "execution_count": 205,
   "metadata": {},
   "outputs": [],
   "source": [
    "import requests\n",
    "from bs4 import BeautifulSoup\n",
    "from pymongo import MongoClient\n",
    "\n",
    "def scrape_vnexpress_news():\n",
    "    url = 'https://vnexpress.net/tin-tuc-24h'\n",
    "    response = requests.get(url)\n",
    "    \n",
    "    if response.status_code != 200:\n",
    "        print(\"Failed to retrieve the webpage\")\n",
    "        return\n",
    "    \n",
    "    soup = BeautifulSoup(response.content, 'html.parser')\n",
    "    \n",
    "    articles = []\n",
    "    \n",
    "    for item in soup.find_all('article', class_='item-news'):\n",
    "        title = item.find('h3', class_='title-news')\n",
    "        link = item.find('a', href=True)\n",
    "        summary = item.find('p', class_='description')\n",
    "        \n",
    "        if title and link and summary:\n",
    "            full_link = link['href']\n",
    "            if not full_link.startswith('http'):\n",
    "                full_link = 'https://vnexpress.net' + full_link\n",
    "            articles.append({\n",
    "                'title': title.get_text(strip=True),\n",
    "                'link': full_link,\n",
    "                'summary': summary.get_text(strip=True),\n",
    "                'label': 0\n",
    "            })\n",
    "    \n",
    "    return articles"
   ]
  },
  {
   "cell_type": "code",
   "execution_count": 206,
   "metadata": {},
   "outputs": [],
   "source": [
    "# Lấy dữ liệu từ trang VNExpress\n",
    "articles = scrape_vnexpress_news()\n",
    "for article in articles:\n",
    "    print(article)"
   ]
  },
  {
   "cell_type": "markdown",
   "metadata": {},
   "source": [
    "Truy vết từ MongoDB và dự đoán các bài báo Fake (Fake_News)"
   ]
  },
  {
   "cell_type": "code",
   "execution_count": 16,
   "metadata": {},
   "outputs": [
    {
     "name": "stdout",
     "output_type": "stream",
     "text": [
      "Số bài báo thật: 24\n",
      "Số bài báo giả: 66\n",
      "Chi tiết các fake_news\n",
      "ID bài báo: 66bf0e353febf8c28e68b8c1\n",
      "Tiêu đề: Đường golf dưới lưới điện Mỹ\n",
      "Tóm tắt: Một golfer ở South Carolina tận dụng khu đất trống ngay bên dưới đường truyền tải điện phía sau nhà để làm đường golf phục vụ gia đình và láng giềng.\n",
      "Đường dẫn: https://vnexpress.net/duong-golf-duoi-luoi-dien-my-4782291.html\n",
      "----------------------------------------\n",
      "ID bài báo: 66bf0e353febf8c28e68b8c2\n",
      "Tiêu đề: Đảo Jeju giảm khách giữa lùm xùm 'chặt chém'\n",
      "Tóm tắt: Hàn QuốcLượng khách trong nước đến đảo Jeju giảm vào cao điểm hè, trong bối cảnh có nhiều phàn nàn món đặc sản thịt lợn đen bị bán \"chặt chém\".\n",
      "Đường dẫn: https://vnexpress.net/dao-jeju-giam-khach-giua-lum-xum-chat-chem-4782084.html\n",
      "----------------------------------------\n",
      "ID bài báo: 66bf0e353febf8c28e68b8c3\n",
      "Tiêu đề: Khó ngủ, điều trị thế nào?\n",
      "Tóm tắt: Trước đây tôi làm ca tối nên đi ngủ lúc 4-5h, khoảng 13h-14h dậy. Nay tôi đã đổi việc, làm giờ hành chính nhưng bị khó ngủ, có uống thuốc ngủ được không? (Ngọc Trinh, TP HCM)\n",
      "Đường dẫn: https://vnexpress.net/kho-ngu-dieu-tri-the-nao-4782221.html\n",
      "----------------------------------------\n",
      "ID bài báo: 66bf0e353febf8c28e68b8c4\n",
      "Tiêu đề: Octo Finissimo - BST đồng hồ đoạt 8 kỷ lục thế giới của Bvlgari\n",
      "Tóm tắt: Ra mắt từ 2014, BST Octo Finissimo liên tục tạo tiếng vang, giúp Bvlgari lập 8 kỷ lục thế giới về độ mỏng, dự trữ năng lượng dao động 52-60 giờ.\n",
      "Đường dẫn: https://vnexpress.net/octo-finissimo-bst-dong-ho-doat-8-ky-luc-the-gioi-cua-bvlgari-4782209.html\n",
      "----------------------------------------\n",
      "ID bài báo: 66bf0e353febf8c28e68b8c6\n",
      "Tiêu đề: Kỷ lục gia bơi Trung Quốc ước không nổi tiếng\n",
      "Tóm tắt: Trung QuốcPan Zhanle - HC vàng bơi 100m tự do Olympic 2024 - bức bối vì sự chú ý của người hâm mộ, thậm chí đã giải tán nhóm fan duy nhất trên mạng xã hội.\n",
      "Đường dẫn: https://vnexpress.net/ky-luc-gia-boi-trung-quoc-uoc-khong-noi-tieng-4782260.html\n",
      "----------------------------------------\n",
      "ID bài báo: 66bf0e353febf8c28e68b8c7\n",
      "Tiêu đề: Đại tá Trần Xuân Ánh làm Giám đốc Công an Thái Bình\n",
      "Tóm tắt: Đại tá Trần Xuân Ánh, Giám đốc Công an tỉnh Trà Vinh, được điều động giữ chức Giám đốc Công an tỉnh Thái Bình.\n",
      "Đường dẫn: https://vnexpress.net/dai-ta-tran-xuan-anh-lam-giam-doc-cong-an-thai-binh-4782226.html\n",
      "----------------------------------------\n",
      "ID bài báo: 66bf0e353febf8c28e68b8c8\n",
      "Tiêu đề: Xe tăng Challenger 2 có thể đã tham chiến tại tỉnh Kursk\n",
      "Tóm tắt: Truyền thông Anh nói rằng Ukraine đã triển khai xe tăng Challenger 2 cho chiến dịch tại Kursk, lực lượng Nga tuyên bố UAV Lancet đã phá hủy một chiếc.\n",
      "Đường dẫn: https://vnexpress.net/xe-tang-challenger-2-co-the-da-tham-chien-tai-tinh-kursk-4782126.html\n",
      "----------------------------------------\n",
      "ID bài báo: 66bf0e353febf8c28e68b8c9\n",
      "Tiêu đề: Khoảnh khắc tổ hợp HIMARS Ukraine hứng tên lửa Iskander\n",
      "Tóm tắt: UAV Nga theo dõi pháo phản lực HIMARS Ukraine khai hỏa nhằm vào tỉnh Kursk, chỉ điểm cho tên lửa Iskander tập kích khi nó về nơi tập kết.\n",
      "Đường dẫn: https://vnexpress.net/khoanh-khac-to-hop-himars-ukraine-hung-ten-lua-iskander-4782086.html\n",
      "----------------------------------------\n",
      "ID bài báo: 66bf0e353febf8c28e68b8ca\n",
      "Tiêu đề: Dàn thí sinh Miss Hong Kong diễn bikini\n",
      "Tóm tắt: 15 cô gái vào chung kết Hoa hậu Hong Kong đều lần đầu trình diễn áo tắm trước khán giả.\n",
      "Đường dẫn: https://vnexpress.net/dan-thi-sinh-miss-hong-kong-dien-bikini-4782215.html\n",
      "----------------------------------------\n",
      "ID bài báo: 66bf0e353febf8c28e68b8cb\n",
      "Tiêu đề: HoREA đề xuất TP HCM xem lại phương thức tính bảng giá đất điều chỉnh\n",
      "Tóm tắt: Hiệp hội bất động sản TP HCM kiến nghị thành phố xem lại phương thức khảo sát bảng giá đất điều chỉnh vì cho rằng cách tính toán chưa hợp lý.\n",
      "Đường dẫn: https://vnexpress.net/horea-de-xuat-tp-hcm-xem-lai-phuong-thuc-tinh-bang-gia-dat-dieu-chinh-4782212.html\n",
      "----------------------------------------\n",
      "ID bài báo: 66bf0e353febf8c28e68b8cd\n",
      "Tiêu đề: Cựu danh thủ Man Utd ám chỉ mùa này là cơ hội cuối của Ten Hag\n",
      "Tóm tắt: AnhTheo cựu hậu vệ Jaap Stam, HLV Erik ten Hag không còn lý do để bào chữa nếu Man Utd không chơi tốt hơn mùa trước.\n",
      "Đường dẫn: https://vnexpress.net/cuu-danh-thu-man-utd-am-chi-mua-nay-la-co-hoi-cuoi-cua-ten-hag-4782172.html\n",
      "----------------------------------------\n",
      "ID bài báo: 66bf0e353febf8c28e68b8cf\n",
      "Tiêu đề: Tiệm bánh mì 79.000 đồng một ổ ở TP HCM\n",
      "Tóm tắt: Tiệm ở quận 1 bán bánh mì với quy trình khép kín, giá 79.000 đồng một ổ, được cho là \"đắt nhất Sài Gòn\".\n",
      "Đường dẫn: https://vnexpress.net/tiem-banh-mi-79-000-dong-mot-o-o-tp-hcm-4780720.html\n",
      "----------------------------------------\n",
      "ID bài báo: 66bf0e353febf8c28e68b8d0\n",
      "Tiêu đề: Bí quyết giúp Singapore trở thành Vùng Xanh trường thọ\n",
      "Tóm tắt: Tuổi thọ trung bình của dân Singapore tăng cao do chương trình chăm sóc sức khỏe tối ưu, chính phủ thiết kế các khu nhà gần công viên, đường đi bộ để mọi người vận động.\n",
      "Đường dẫn: https://vnexpress.net/bi-quyet-giup-singapore-tro-thanh-vung-xanh-truong-tho-4782231.html\n",
      "----------------------------------------\n",
      "ID bài báo: 66bf0e353febf8c28e68b8d1\n",
      "Tiêu đề: Từ 'công chúa' nhà Shinawatra đến nữ thủ tướng trẻ nhất Thái Lan\n",
      "Tóm tắt: Từng được gọi là \"công chúa\" của gia tộc Shinawatra, bà Paetongtarn, con gái ông Thaksin, đã trỗi dậy trên chính trường để trở thành thủ tướng trẻ nhất Thái Lan.\n",
      "Đường dẫn: https://vnexpress.net/tu-cong-chua-nha-shinawatra-den-nu-thu-tuong-tre-nhat-thai-lan-4782005.html\n",
      "----------------------------------------\n",
      "ID bài báo: 66bf0e353febf8c28e68b8d2\n",
      "Tiêu đề: Chứng khoán vượt 1.250 điểm\n",
      "Tóm tắt: Gần 83% cổ phiếu trên sàn HoSE tăng giá, trong đó có 19 mã chạm trần, VN-Index tích lũy 27 điểm để lấy lại mốc kháng cự quan trọng 1.250 điểm.\n",
      "Đường dẫn: https://vnexpress.net/chung-khoan-hom-nay-16-8-hon-400-co-phieu-tang-gia-4782233.html\n",
      "----------------------------------------\n",
      "ID bài báo: 66bf0e353febf8c28e68b8d3\n",
      "Tiêu đề: EZ-6 - sedan toàn cầu mới của Mazda\n",
      "Tóm tắt: Mẫu sedan mới của Mazda bán ra đầu tiên ở Trung Quốc và châu Âu, tùy chọn thuần điện EV hoặc hybrid cắm điện PHEV.\n",
      "Đường dẫn: https://vnexpress.net/ez-6-sedan-toan-cau-moi-cua-mazda-4782080.html\n",
      "----------------------------------------\n",
      "ID bài báo: 66bf0e353febf8c28e68b8d6\n",
      "Tiêu đề: 5 cách thu nhỏ lỗ chân lông\n",
      "Tóm tắt: Công nghệ vi kim RF, lăn kim, laser, tiêm meso hoặc thay da sinh học giúp se khít lỗ chân lông to.\n",
      "Đường dẫn: https://vnexpress.net/5-cach-thu-nho-lo-chan-long-4782138.html\n",
      "----------------------------------------\n",
      "ID bài báo: 66bf0e353febf8c28e68b8d7\n",
      "Tiêu đề: Thuê nhà Airbnb để đào tiền số\n",
      "Tóm tắt: MỹMột người cho thuê nhà trên nền tảng Airbnb \"tá hỏa\" sau khi nhận hóa đơn 1.500 USD tiền điện do khách để lại.\n",
      "Đường dẫn: https://vnexpress.net/thue-nha-airbnb-de-dao-tien-so-4782106.html\n",
      "----------------------------------------\n",
      "ID bài báo: 66bf0e353febf8c28e68b8d8\n",
      "Tiêu đề: Bộ Giáo dục công bố quy chế thi tốt nghiệp 2025 vào tháng 11\n",
      "Tóm tắt: Bộ Giáo dục và Đào tạo sẽ ban hành quy chế thi tốt nghiệp THPT và tuyển sinh đại học năm 2025 muộn nhất vào tháng 11.\n",
      "Đường dẫn: https://vnexpress.net/bo-giao-duc-cong-bo-quy-che-thi-tot-nghiep-2025-vao-thang-11-4782218.html\n",
      "----------------------------------------\n",
      "ID bài báo: 66bf0e353febf8c28e68b8da\n",
      "Tiêu đề: Lê Đức Phát truất ngôi Tiến Minh ở giải quốc gia 2024\n",
      "Tóm tắt: Lê Đức Phát đánh bại đương kim vô địch Nguyễn Tiến Minh 21-13, 21-16 ở bán kết giải vô địch cầu lông cá nhân quốc gia 2024, sáng nay 16/8.\n",
      "Đường dẫn: https://vnexpress.net/le-duc-phat-truat-ngoi-tien-minh-o-giai-quoc-gia-2024-4782216.html\n",
      "----------------------------------------\n",
      "ID bài báo: 66bf0e353febf8c28e68b8db\n",
      "Tiêu đề: Giá USD tự do tiếp tục giảm\n",
      "Tóm tắt: Giá USD trên thị trường tự do giảm 45 đồng cả hai chiều, xuống 25.450 - 25.530 đồng, mức thấp nhất từ giữa tháng 4.\n",
      "Đường dẫn: https://vnexpress.net/gia-usd-tu-do-tiep-tuc-giam-4782220.html\n",
      "----------------------------------------\n",
      "ID bài báo: 66bf0e353febf8c28e68b8dc\n",
      "Tiêu đề: Cháy đại lý chăn ga, nữ sinh thiệt mạng\n",
      "Tóm tắt: Thanh HóaLửa xuất phát từ đại lý chăn ga sau đó lan sang ngôi nhà hai tầng khiến nữ sinh 20 tuổi ở xã Quảng Trạch, huyện Quảng Xương thiệt mạng.\n",
      "Đường dẫn: https://vnexpress.net/chay-dai-ly-chan-ga-nu-sinh-thiet-mang-4782166.html\n",
      "----------------------------------------\n",
      "ID bài báo: 66bf0e533febf8c28e68b8e0\n",
      "Tiêu đề: Đường golf dưới lưới điện Mỹ\n",
      "Tóm tắt: Một golfer ở South Carolina tận dụng khu đất trống ngay bên dưới đường truyền tải điện phía sau nhà để làm đường golf phục vụ gia đình và láng giềng.\n",
      "Đường dẫn: https://vnexpress.net/duong-golf-duoi-luoi-dien-my-4782291.html\n",
      "----------------------------------------\n",
      "ID bài báo: 66bf0e533febf8c28e68b8e1\n",
      "Tiêu đề: Đảo Jeju giảm khách giữa lùm xùm 'chặt chém'\n",
      "Tóm tắt: Hàn QuốcLượng khách trong nước đến đảo Jeju giảm vào cao điểm hè, trong bối cảnh có nhiều phàn nàn món đặc sản thịt lợn đen bị bán \"chặt chém\".\n",
      "Đường dẫn: https://vnexpress.net/dao-jeju-giam-khach-giua-lum-xum-chat-chem-4782084.html\n",
      "----------------------------------------\n",
      "ID bài báo: 66bf0e533febf8c28e68b8e2\n",
      "Tiêu đề: Khó ngủ, điều trị thế nào?\n",
      "Tóm tắt: Trước đây tôi làm ca tối nên đi ngủ lúc 4-5h, khoảng 13h-14h dậy. Nay tôi đã đổi việc, làm giờ hành chính nhưng bị khó ngủ, có uống thuốc ngủ được không? (Ngọc Trinh, TP HCM)\n",
      "Đường dẫn: https://vnexpress.net/kho-ngu-dieu-tri-the-nao-4782221.html\n",
      "----------------------------------------\n",
      "ID bài báo: 66bf0e533febf8c28e68b8e3\n",
      "Tiêu đề: Octo Finissimo - BST đồng hồ đoạt 8 kỷ lục thế giới của Bvlgari\n",
      "Tóm tắt: Ra mắt từ 2014, BST Octo Finissimo liên tục tạo tiếng vang, giúp Bvlgari lập 8 kỷ lục thế giới về độ mỏng, dự trữ năng lượng dao động 52-60 giờ.\n",
      "Đường dẫn: https://vnexpress.net/octo-finissimo-bst-dong-ho-doat-8-ky-luc-the-gioi-cua-bvlgari-4782209.html\n",
      "----------------------------------------\n",
      "ID bài báo: 66bf0e533febf8c28e68b8e5\n",
      "Tiêu đề: Kỷ lục gia bơi Trung Quốc ước không nổi tiếng\n",
      "Tóm tắt: Trung QuốcPan Zhanle - HC vàng bơi 100m tự do Olympic 2024 - bức bối vì sự chú ý của người hâm mộ, thậm chí đã giải tán nhóm fan duy nhất trên mạng xã hội.\n",
      "Đường dẫn: https://vnexpress.net/ky-luc-gia-boi-trung-quoc-uoc-khong-noi-tieng-4782260.html\n",
      "----------------------------------------\n",
      "ID bài báo: 66bf0e533febf8c28e68b8e6\n",
      "Tiêu đề: Đại tá Trần Xuân Ánh làm Giám đốc Công an Thái Bình\n",
      "Tóm tắt: Đại tá Trần Xuân Ánh, Giám đốc Công an tỉnh Trà Vinh, được điều động giữ chức Giám đốc Công an tỉnh Thái Bình.\n",
      "Đường dẫn: https://vnexpress.net/dai-ta-tran-xuan-anh-lam-giam-doc-cong-an-thai-binh-4782226.html\n",
      "----------------------------------------\n",
      "ID bài báo: 66bf0e533febf8c28e68b8e7\n",
      "Tiêu đề: Xe tăng Challenger 2 có thể đã tham chiến tại tỉnh Kursk\n",
      "Tóm tắt: Truyền thông Anh nói rằng Ukraine đã triển khai xe tăng Challenger 2 cho chiến dịch tại Kursk, lực lượng Nga tuyên bố UAV Lancet đã phá hủy một chiếc.\n",
      "Đường dẫn: https://vnexpress.net/xe-tang-challenger-2-co-the-da-tham-chien-tai-tinh-kursk-4782126.html\n",
      "----------------------------------------\n",
      "ID bài báo: 66bf0e533febf8c28e68b8e8\n",
      "Tiêu đề: Khoảnh khắc tổ hợp HIMARS Ukraine hứng tên lửa Iskander\n",
      "Tóm tắt: UAV Nga theo dõi pháo phản lực HIMARS Ukraine khai hỏa nhằm vào tỉnh Kursk, chỉ điểm cho tên lửa Iskander tập kích khi nó về nơi tập kết.\n",
      "Đường dẫn: https://vnexpress.net/khoanh-khac-to-hop-himars-ukraine-hung-ten-lua-iskander-4782086.html\n",
      "----------------------------------------\n",
      "ID bài báo: 66bf0e533febf8c28e68b8e9\n",
      "Tiêu đề: Dàn thí sinh Miss Hong Kong diễn bikini\n",
      "Tóm tắt: 15 cô gái vào chung kết Hoa hậu Hong Kong đều lần đầu trình diễn áo tắm trước khán giả.\n",
      "Đường dẫn: https://vnexpress.net/dan-thi-sinh-miss-hong-kong-dien-bikini-4782215.html\n",
      "----------------------------------------\n",
      "ID bài báo: 66bf0e533febf8c28e68b8ea\n",
      "Tiêu đề: HoREA đề xuất TP HCM xem lại phương thức tính bảng giá đất điều chỉnh\n",
      "Tóm tắt: Hiệp hội bất động sản TP HCM kiến nghị thành phố xem lại phương thức khảo sát bảng giá đất điều chỉnh vì cho rằng cách tính toán chưa hợp lý.\n",
      "Đường dẫn: https://vnexpress.net/horea-de-xuat-tp-hcm-xem-lai-phuong-thuc-tinh-bang-gia-dat-dieu-chinh-4782212.html\n",
      "----------------------------------------\n",
      "ID bài báo: 66bf0e533febf8c28e68b8ec\n",
      "Tiêu đề: Cựu danh thủ Man Utd ám chỉ mùa này là cơ hội cuối của Ten Hag\n",
      "Tóm tắt: AnhTheo cựu hậu vệ Jaap Stam, HLV Erik ten Hag không còn lý do để bào chữa nếu Man Utd không chơi tốt hơn mùa trước.\n",
      "Đường dẫn: https://vnexpress.net/cuu-danh-thu-man-utd-am-chi-mua-nay-la-co-hoi-cuoi-cua-ten-hag-4782172.html\n",
      "----------------------------------------\n",
      "ID bài báo: 66bf0e533febf8c28e68b8ee\n",
      "Tiêu đề: Tiệm bánh mì 79.000 đồng một ổ ở TP HCM\n",
      "Tóm tắt: Tiệm ở quận 1 bán bánh mì với quy trình khép kín, giá 79.000 đồng một ổ, được cho là \"đắt nhất Sài Gòn\".\n",
      "Đường dẫn: https://vnexpress.net/tiem-banh-mi-79-000-dong-mot-o-o-tp-hcm-4780720.html\n",
      "----------------------------------------\n",
      "ID bài báo: 66bf0e533febf8c28e68b8ef\n",
      "Tiêu đề: Bí quyết giúp Singapore trở thành Vùng Xanh trường thọ\n",
      "Tóm tắt: Tuổi thọ trung bình của dân Singapore tăng cao do chương trình chăm sóc sức khỏe tối ưu, chính phủ thiết kế các khu nhà gần công viên, đường đi bộ để mọi người vận động.\n",
      "Đường dẫn: https://vnexpress.net/bi-quyet-giup-singapore-tro-thanh-vung-xanh-truong-tho-4782231.html\n",
      "----------------------------------------\n",
      "ID bài báo: 66bf0e533febf8c28e68b8f0\n",
      "Tiêu đề: Từ 'công chúa' nhà Shinawatra đến nữ thủ tướng trẻ nhất Thái Lan\n",
      "Tóm tắt: Từng được gọi là \"công chúa\" của gia tộc Shinawatra, bà Paetongtarn, con gái ông Thaksin, đã trỗi dậy trên chính trường để trở thành thủ tướng trẻ nhất Thái Lan.\n",
      "Đường dẫn: https://vnexpress.net/tu-cong-chua-nha-shinawatra-den-nu-thu-tuong-tre-nhat-thai-lan-4782005.html\n",
      "----------------------------------------\n",
      "ID bài báo: 66bf0e533febf8c28e68b8f1\n",
      "Tiêu đề: Chứng khoán vượt 1.250 điểm\n",
      "Tóm tắt: Gần 83% cổ phiếu trên sàn HoSE tăng giá, trong đó có 19 mã chạm trần, VN-Index tích lũy 27 điểm để lấy lại mốc kháng cự quan trọng 1.250 điểm.\n",
      "Đường dẫn: https://vnexpress.net/chung-khoan-hom-nay-16-8-hon-400-co-phieu-tang-gia-4782233.html\n",
      "----------------------------------------\n",
      "ID bài báo: 66bf0e533febf8c28e68b8f2\n",
      "Tiêu đề: EZ-6 - sedan toàn cầu mới của Mazda\n",
      "Tóm tắt: Mẫu sedan mới của Mazda bán ra đầu tiên ở Trung Quốc và châu Âu, tùy chọn thuần điện EV hoặc hybrid cắm điện PHEV.\n",
      "Đường dẫn: https://vnexpress.net/ez-6-sedan-toan-cau-moi-cua-mazda-4782080.html\n",
      "----------------------------------------\n",
      "ID bài báo: 66bf0e533febf8c28e68b8f5\n",
      "Tiêu đề: 5 cách thu nhỏ lỗ chân lông\n",
      "Tóm tắt: Công nghệ vi kim RF, lăn kim, laser, tiêm meso hoặc thay da sinh học giúp se khít lỗ chân lông to.\n",
      "Đường dẫn: https://vnexpress.net/5-cach-thu-nho-lo-chan-long-4782138.html\n",
      "----------------------------------------\n",
      "ID bài báo: 66bf0e533febf8c28e68b8f6\n",
      "Tiêu đề: Thuê nhà Airbnb để đào tiền số\n",
      "Tóm tắt: MỹMột người cho thuê nhà trên nền tảng Airbnb \"tá hỏa\" sau khi nhận hóa đơn 1.500 USD tiền điện do khách để lại.\n",
      "Đường dẫn: https://vnexpress.net/thue-nha-airbnb-de-dao-tien-so-4782106.html\n",
      "----------------------------------------\n",
      "ID bài báo: 66bf0e533febf8c28e68b8f7\n",
      "Tiêu đề: Bộ Giáo dục công bố quy chế thi tốt nghiệp 2025 vào tháng 11\n",
      "Tóm tắt: Bộ Giáo dục và Đào tạo sẽ ban hành quy chế thi tốt nghiệp THPT và tuyển sinh đại học năm 2025 muộn nhất vào tháng 11.\n",
      "Đường dẫn: https://vnexpress.net/bo-giao-duc-cong-bo-quy-che-thi-tot-nghiep-2025-vao-thang-11-4782218.html\n",
      "----------------------------------------\n",
      "ID bài báo: 66bf0e533febf8c28e68b8f9\n",
      "Tiêu đề: Lê Đức Phát truất ngôi Tiến Minh ở giải quốc gia 2024\n",
      "Tóm tắt: Lê Đức Phát đánh bại đương kim vô địch Nguyễn Tiến Minh 21-13, 21-16 ở bán kết giải vô địch cầu lông cá nhân quốc gia 2024, sáng nay 16/8.\n",
      "Đường dẫn: https://vnexpress.net/le-duc-phat-truat-ngoi-tien-minh-o-giai-quoc-gia-2024-4782216.html\n",
      "----------------------------------------\n",
      "ID bài báo: 66bf0e533febf8c28e68b8fa\n",
      "Tiêu đề: Giá USD tự do tiếp tục giảm\n",
      "Tóm tắt: Giá USD trên thị trường tự do giảm 45 đồng cả hai chiều, xuống 25.450 - 25.530 đồng, mức thấp nhất từ giữa tháng 4.\n",
      "Đường dẫn: https://vnexpress.net/gia-usd-tu-do-tiep-tuc-giam-4782220.html\n",
      "----------------------------------------\n",
      "ID bài báo: 66bf0e533febf8c28e68b8fb\n",
      "Tiêu đề: Cháy đại lý chăn ga, nữ sinh thiệt mạng\n",
      "Tóm tắt: Thanh HóaLửa xuất phát từ đại lý chăn ga sau đó lan sang ngôi nhà hai tầng khiến nữ sinh 20 tuổi ở xã Quảng Trạch, huyện Quảng Xương thiệt mạng.\n",
      "Đường dẫn: https://vnexpress.net/chay-dai-ly-chan-ga-nu-sinh-thiet-mang-4782166.html\n",
      "----------------------------------------\n",
      "ID bài báo: 66bf13fa3febf8c28e68b8fe\n",
      "Tiêu đề: Mỗi tín chỉ carbon lúa của Việt Nam được định giá 20 USD\n",
      "Tóm tắt: Bộ Nông nghiệp và Phát triển Nông thôn đang định giá mỗi tín chỉ carbon lúa ở mức 20 USD, cao hơn nhiều so với mức giá dự tính của Ngân hàng Thế giới.\n",
      "Đường dẫn: https://vnexpress.net/moi-tin-chi-carbon-lua-cua-viet-nam-duoc-dinh-gia-20-usd-4782257.html\n",
      "----------------------------------------\n",
      "ID bài báo: 66bf13fa3febf8c28e68b8ff\n",
      "Tiêu đề: Trung tá công an hy sinh khi khống chế người cầm dao được truy tặng bằng Tổ quốc ghi công\n",
      "Tóm tắt: Thừa Thiên - HuếTrung tá Trần Duy Hùng, người hy sinh khi làm nhiệm vụ, được Chính phủ truy tặng bằng Tổ quốc ghi công, ngày 16/8.\n",
      "Đường dẫn: https://vnexpress.net/trung-ta-cong-an-hy-sinh-khi-khong-che-nguoi-cam-dao-duoc-truy-tang-bang-to-quoc-ghi-cong-4782210.html\n",
      "----------------------------------------\n",
      "ID bài báo: 66bf13fa3febf8c28e68b901\n",
      "Tiêu đề: Nga cáo buộc NATO giúp Ukraine tấn công vào Kursk\n",
      "Tóm tắt: Trợ lý Điện Kremlin Patrushev cáo buộc NATO và phương Tây đã \"trực tiếp tham gia lập kế hoạch\" giúp Ukraine tấn công vào tỉnh Kursk của Nga.\n",
      "Đường dẫn: https://vnexpress.net/nga-cao-buoc-nato-giup-ukraine-tan-cong-vao-kursk-4782229.html\n",
      "----------------------------------------\n",
      "ID bài báo: 66bf13fa3febf8c28e68b902\n",
      "Tiêu đề: Năm người bị bắt liên quan cái chết của sao 'Friends'\n",
      "Tóm tắt: Năm người bị cáo buộc liên quan cái chết của Matthew Perry năm 2023, trong đó có trợ lý lâu năm và hai bác sĩ.\n",
      "Đường dẫn: https://vnexpress.net/nam-nguoi-bi-bat-lien-quan-cai-chet-cua-sao-friends-4782109.html\n",
      "----------------------------------------\n",
      "ID bài báo: 66bf13fa3febf8c28e68b905\n",
      "Tiêu đề: Nhóm CEO đạp xe 550 km đến Nha Trang chạy VnExpress Marathon\n",
      "Tóm tắt: 9 người là CEO, lãnh đạo cấp cao các doanh nghiệp thương mại điện tử, đạp xe từ TP HCM đến Nha Trang trong 5 ngày, sau đó hoàn thành 42km chạy bộ, sáng 11/8.\n",
      "Đường dẫn: https://vnexpress.net/nhom-ceo-dap-xe-550-km-den-nha-trang-chay-vnexpress-marathon-4781309.html\n",
      "----------------------------------------\n",
      "ID bài báo: 66bf13fa3febf8c28e68b906\n",
      "Tiêu đề: Đường golf dưới lưới điện Mỹ\n",
      "Tóm tắt: Một golfer ở South Carolina tận dụng khu đất trống ngay bên dưới đường truyền tải điện phía sau nhà để làm đường golf phục vụ gia đình và láng giềng.\n",
      "Đường dẫn: https://vnexpress.net/duong-golf-duoi-luoi-dien-my-4782291.html\n",
      "----------------------------------------\n",
      "ID bài báo: 66bf13fa3febf8c28e68b907\n",
      "Tiêu đề: Đảo Jeju giảm khách giữa lùm xùm 'chặt chém'\n",
      "Tóm tắt: Hàn QuốcLượng khách trong nước đến đảo Jeju giảm vào cao điểm hè, trong bối cảnh có nhiều phàn nàn món đặc sản thịt lợn đen bị bán \"chặt chém\".\n",
      "Đường dẫn: https://vnexpress.net/dao-jeju-giam-khach-giua-lum-xum-chat-chem-4782084.html\n",
      "----------------------------------------\n",
      "ID bài báo: 66bf13fa3febf8c28e68b908\n",
      "Tiêu đề: Khó ngủ, điều trị thế nào?\n",
      "Tóm tắt: Trước đây tôi làm ca tối nên đi ngủ lúc 4-5h, khoảng 13h-14h dậy. Nay tôi đã đổi việc, làm giờ hành chính nhưng bị khó ngủ, có uống thuốc ngủ được không? (Ngọc Trinh, TP HCM)\n",
      "Đường dẫn: https://vnexpress.net/kho-ngu-dieu-tri-the-nao-4782221.html\n",
      "----------------------------------------\n",
      "ID bài báo: 66bf13fa3febf8c28e68b909\n",
      "Tiêu đề: Octo Finissimo - BST đồng hồ đoạt 8 kỷ lục thế giới của Bvlgari\n",
      "Tóm tắt: Ra mắt từ 2014, BST Octo Finissimo liên tục tạo tiếng vang, giúp Bvlgari lập 8 kỷ lục thế giới về độ mỏng, dự trữ năng lượng dao động 52-60 giờ.\n",
      "Đường dẫn: https://vnexpress.net/octo-finissimo-bst-dong-ho-doat-8-ky-luc-the-gioi-cua-bvlgari-4782209.html\n",
      "----------------------------------------\n",
      "ID bài báo: 66bf13fa3febf8c28e68b90b\n",
      "Tiêu đề: Kỷ lục gia bơi Trung Quốc ước không nổi tiếng\n",
      "Tóm tắt: Trung QuốcPan Zhanle - HC vàng bơi 100m tự do Olympic 2024 - bức bối vì sự chú ý của người hâm mộ, thậm chí đã giải tán nhóm fan duy nhất trên mạng xã hội.\n",
      "Đường dẫn: https://vnexpress.net/ky-luc-gia-boi-trung-quoc-uoc-khong-noi-tieng-4782260.html\n",
      "----------------------------------------\n",
      "ID bài báo: 66bf13fa3febf8c28e68b90c\n",
      "Tiêu đề: Đại tá Trần Xuân Ánh làm Giám đốc Công an Thái Bình\n",
      "Tóm tắt: Đại tá Trần Xuân Ánh, Giám đốc Công an tỉnh Trà Vinh, được điều động giữ chức Giám đốc Công an tỉnh Thái Bình.\n",
      "Đường dẫn: https://vnexpress.net/dai-ta-tran-xuan-anh-lam-giam-doc-cong-an-thai-binh-4782226.html\n",
      "----------------------------------------\n",
      "ID bài báo: 66bf13fa3febf8c28e68b90d\n",
      "Tiêu đề: Xe tăng Challenger 2 có thể đã tham chiến tại tỉnh Kursk\n",
      "Tóm tắt: Truyền thông Anh nói rằng Ukraine đã triển khai xe tăng Challenger 2 cho chiến dịch tại Kursk, lực lượng Nga tuyên bố UAV Lancet đã phá hủy một chiếc.\n",
      "Đường dẫn: https://vnexpress.net/xe-tang-challenger-2-co-the-da-tham-chien-tai-tinh-kursk-4782126.html\n",
      "----------------------------------------\n",
      "ID bài báo: 66bf13fa3febf8c28e68b90e\n",
      "Tiêu đề: Khoảnh khắc tổ hợp HIMARS Ukraine hứng tên lửa Iskander\n",
      "Tóm tắt: UAV Nga theo dõi pháo phản lực HIMARS Ukraine khai hỏa nhằm vào tỉnh Kursk, chỉ điểm cho tên lửa Iskander tập kích khi nó về nơi tập kết.\n",
      "Đường dẫn: https://vnexpress.net/khoanh-khac-to-hop-himars-ukraine-hung-ten-lua-iskander-4782086.html\n",
      "----------------------------------------\n",
      "ID bài báo: 66bf13fa3febf8c28e68b90f\n",
      "Tiêu đề: Dàn thí sinh Miss Hong Kong diễn bikini\n",
      "Tóm tắt: 15 cô gái vào chung kết Hoa hậu Hong Kong đều lần đầu trình diễn áo tắm trước khán giả.\n",
      "Đường dẫn: https://vnexpress.net/dan-thi-sinh-miss-hong-kong-dien-bikini-4782215.html\n",
      "----------------------------------------\n",
      "ID bài báo: 66bf13fa3febf8c28e68b910\n",
      "Tiêu đề: HoREA đề xuất TP HCM xem lại phương thức tính bảng giá đất điều chỉnh\n",
      "Tóm tắt: Hiệp hội bất động sản TP HCM kiến nghị thành phố xem lại phương thức khảo sát bảng giá đất điều chỉnh vì cho rằng cách tính toán chưa hợp lý.\n",
      "Đường dẫn: https://vnexpress.net/horea-de-xuat-tp-hcm-xem-lai-phuong-thuc-tinh-bang-gia-dat-dieu-chinh-4782212.html\n",
      "----------------------------------------\n",
      "ID bài báo: 66bf13fa3febf8c28e68b912\n",
      "Tiêu đề: Cựu danh thủ Man Utd ám chỉ mùa này là cơ hội cuối của Ten Hag\n",
      "Tóm tắt: AnhTheo cựu hậu vệ Jaap Stam, HLV Erik ten Hag không còn lý do để bào chữa nếu Man Utd không chơi tốt hơn mùa trước.\n",
      "Đường dẫn: https://vnexpress.net/cuu-danh-thu-man-utd-am-chi-mua-nay-la-co-hoi-cuoi-cua-ten-hag-4782172.html\n",
      "----------------------------------------\n",
      "ID bài báo: 66bf13fa3febf8c28e68b914\n",
      "Tiêu đề: Tiệm bánh mì 79.000 đồng một ổ ở TP HCM\n",
      "Tóm tắt: Tiệm ở quận 1 bán bánh mì với quy trình khép kín, giá 79.000 đồng một ổ, được cho là \"đắt nhất Sài Gòn\".\n",
      "Đường dẫn: https://vnexpress.net/tiem-banh-mi-79-000-dong-mot-o-o-tp-hcm-4780720.html\n",
      "----------------------------------------\n",
      "ID bài báo: 66bf13fa3febf8c28e68b915\n",
      "Tiêu đề: Bí quyết giúp Singapore trở thành Vùng Xanh trường thọ\n",
      "Tóm tắt: Tuổi thọ trung bình của dân Singapore tăng cao do chương trình chăm sóc sức khỏe tối ưu, chính phủ thiết kế các khu nhà gần công viên, đường đi bộ để mọi người vận động.\n",
      "Đường dẫn: https://vnexpress.net/bi-quyet-giup-singapore-tro-thanh-vung-xanh-truong-tho-4782231.html\n",
      "----------------------------------------\n",
      "ID bài báo: 66bf13fa3febf8c28e68b916\n",
      "Tiêu đề: Từ 'công chúa' nhà Shinawatra đến nữ thủ tướng trẻ nhất Thái Lan\n",
      "Tóm tắt: Từng được gọi là \"công chúa\" của gia tộc Shinawatra, bà Paetongtarn, con gái ông Thaksin, đã trỗi dậy trên chính trường để trở thành thủ tướng trẻ nhất Thái Lan.\n",
      "Đường dẫn: https://vnexpress.net/tu-cong-chua-nha-shinawatra-den-nu-thu-tuong-tre-nhat-thai-lan-4782005.html\n",
      "----------------------------------------\n",
      "ID bài báo: 66bf13fa3febf8c28e68b917\n",
      "Tiêu đề: Chứng khoán vượt 1.250 điểm\n",
      "Tóm tắt: Gần 83% cổ phiếu trên sàn HoSE tăng giá, trong đó có 19 mã chạm trần, VN-Index tích lũy 27 điểm để lấy lại mốc kháng cự quan trọng 1.250 điểm.\n",
      "Đường dẫn: https://vnexpress.net/chung-khoan-hom-nay-16-8-hon-400-co-phieu-tang-gia-4782233.html\n",
      "----------------------------------------\n",
      "ID bài báo: 66bf13fa3febf8c28e68b918\n",
      "Tiêu đề: EZ-6 - sedan toàn cầu mới của Mazda\n",
      "Tóm tắt: Mẫu sedan mới của Mazda bán ra đầu tiên ở Trung Quốc và châu Âu, tùy chọn thuần điện EV hoặc hybrid cắm điện PHEV.\n",
      "Đường dẫn: https://vnexpress.net/ez-6-sedan-toan-cau-moi-cua-mazda-4782080.html\n",
      "----------------------------------------\n",
      "ID bài báo: 66bf13fa3febf8c28e68b91b\n",
      "Tiêu đề: 5 cách thu nhỏ lỗ chân lông\n",
      "Tóm tắt: Công nghệ vi kim RF, lăn kim, laser, tiêm meso hoặc thay da sinh học giúp se khít lỗ chân lông to.\n",
      "Đường dẫn: https://vnexpress.net/5-cach-thu-nho-lo-chan-long-4782138.html\n",
      "----------------------------------------\n"
     ]
    }
   ],
   "source": [
    "import numpy as np\n",
    "import pandas as pd\n",
    "from transformers import AutoModelForSequenceClassification, AutoTokenizer\n",
    "from pymongo import MongoClient\n",
    "import torch\n",
    "\n",
    "# Hàm tiền xử lý văn bản mới (Dùng tokenizer của Hugging Face)\n",
    "def preprocess_new_text(text, tokenizer, max_length=500):\n",
    "    inputs = tokenizer(text, return_tensors='pt', truncation=True, padding=True, max_length=max_length)\n",
    "    return inputs\n",
    "\n",
    "# Dự đoán tin tức mới\n",
    "def predict_fake_news(text, model, tokenizer, max_length=500):\n",
    "    inputs = preprocess_new_text(text, tokenizer, max_length)\n",
    "    with torch.no_grad():\n",
    "        outputs = model(**inputs)\n",
    "    logits = outputs.logits\n",
    "    prediction = torch.argmax(logits, dim=1).item()\n",
    "    return \"Thật\" if prediction == 1 else \"Giả\"\n",
    "\n",
    "# Load the model and tokenizer\n",
    "model_name = \"phobert_fake_news_model/\"  # Replace with your model directory or identifier\n",
    "model = AutoModelForSequenceClassification.from_pretrained(model_name)\n",
    "tokenizer = AutoTokenizer.from_pretrained(model_name)\n",
    "\n",
    "# Kết nối đến MongoDB và lấy dữ liệu bài báo\n",
    "client = MongoClient('mongodb://localhost:27017')\n",
    "db = client['news_database']\n",
    "collection = db['VNExpress_news']\n",
    "\n",
    "# Đọc dữ liệu từ MongoDB vào DataFrame\n",
    "df_articles = pd.DataFrame(list(collection.find()))\n",
    "\n",
    "# Dự đoán cho các bài báo\n",
    "df_articles['predicted_label'] = df_articles['summary'].apply(lambda x: predict_fake_news(x, model, tokenizer))\n",
    "\n",
    "# Thống kê số lượng bài báo thật và giả\n",
    "true_count = (df_articles['predicted_label'] == \"Thật\").sum()\n",
    "fake_count = (df_articles['predicted_label'] == \"Giả\").sum()\n",
    "\n",
    "print(f\"Số bài báo thật: {true_count}\")\n",
    "print(f\"Số bài báo giả: {fake_count}\")\n",
    "\n",
    "# Lọc và in ra chi tiết các bài báo giả\n",
    "print('Chi tiết các fake_news')\n",
    "fake_articles = df_articles[df_articles['predicted_label'] == \"Giả\"]\n",
    "for index, row in fake_articles.iterrows():\n",
    "    print(f\"ID bài báo: {row['_id']}\")\n",
    "    print(f\"Tiêu đề: {row.get('title', 'Không có tiêu đề')}\")\n",
    "    print(f\"Tóm tắt: {row['summary']}\")\n",
    "    print(f\"Đường dẫn: {row.get('link', 'Không có link')}\")\n",
    "    print(\"-\" * 40)\n",
    "\n",
    "# Đóng kết nối MongoDB\n",
    "client.close()\n"
   ]
  },
  {
   "cell_type": "markdown",
   "metadata": {},
   "source": [
    "Một ví dụ cho dự đoán Fake_News"
   ]
  },
  {
   "cell_type": "code",
   "execution_count": 15,
   "metadata": {},
   "outputs": [
    {
     "name": "stdout",
     "output_type": "stream",
     "text": [
      "Tin tức: Tối 3/6, trong giờ cao điểm, trên đường Đống Đa (quận Hải Châu, Đà Nẵng) dòng người đi xe máy nối đuôi nhau đi ngược nhiều. Nhiều ôtô cũng chạy lấn sang làn đối diện để vượt lên. Những người này đã bị tài xế ôtô gắn camera hành trình ép lùi và nhập vào đúng phần đường của mình.\n",
      "Dự đoán: Giả\n",
      "Độ dài: 278\n",
      "\n",
      "Tin tức: Việt Nam có 54 dân tộc anh em\n",
      "Dự đoán: Thật\n",
      "Độ dài: 29\n",
      "\n",
      "Tin tức: Uống 2 lít nước lọc hằng ngày tốt cho sức khỏe\n",
      "Dự đoán: Thật\n",
      "Độ dài: 46\n",
      "\n"
     ]
    }
   ],
   "source": [
    "from transformers import AutoModelForSequenceClassification, AutoTokenizer\n",
    "import torch\n",
    "\n",
    "# Load the model and tokenizer\n",
    "model = AutoModelForSequenceClassification.from_pretrained(\"phobert_fake_news_model/\")\n",
    "tokenizer = AutoTokenizer.from_pretrained(\"phobert_fake_news_model/\")\n",
    "\n",
    "# Preprocess and predict\n",
    "def predict_fake_news_hf(text):\n",
    "    inputs = tokenizer(text, return_tensors='pt', truncation=True, padding=True, max_length=500)\n",
    "    with torch.no_grad():\n",
    "        outputs = model(**inputs)\n",
    "    prediction = torch.argmax(outputs.logits, dim=1).item()\n",
    "    return \"Thật\" if prediction == 1 else \"Giả\"\n",
    "\n",
    "# Ví dụ về văn bản tin tức mới\n",
    "new_texts = [\n",
    "    \"Tối 3/6, trong giờ cao điểm, trên đường Đống Đa (quận Hải Châu, Đà Nẵng) dòng người đi xe máy nối đuôi nhau đi ngược nhiều. Nhiều ôtô cũng chạy lấn sang làn đối diện để vượt lên. Những người này đã bị tài xế ôtô gắn camera hành trình ép lùi và nhập vào đúng phần đường của mình.\",\n",
    "    \"Việt Nam có 54 dân tộc anh em\",\n",
    "    \"Uống 2 lít nước lọc hằng ngày tốt cho sức khỏe\"\n",
    "]\n",
    "\n",
    "# Example predictions\n",
    "predictions = [predict_fake_news_hf(text) for text in new_texts]\n",
    "\n",
    "for text, prediction in zip(new_texts, predictions):\n",
    "    print(f\"Tin tức: {text}\\nDự đoán: {prediction}\\nĐộ dài: {len(text)}\\n\")\n"
   ]
  },
  {
   "cell_type": "code",
   "execution_count": 18,
   "metadata": {},
   "outputs": [
    {
     "name": "stdout",
     "output_type": "stream",
     "text": [
      "Phần trăm tin giả trong bài báo: 48.39%\n",
      "\n",
      "Các đoạn văn là tin giả:\n",
      "\n",
      "Đoạn văn 1: Trước khi lấy chồng, MC Quỳnh Chi vắng bóng truyền hình, tập trung kinh doanh, phát triển thương hiệu thời trang riêng.\n",
      "\n",
      "Đoạn văn 2: Hôm 22/8, Quỳnh Chi cho biết đã thử xong váy cưới, đang cùng bạn trai hoàn thiện những khâu cuối cho hôn lễ dự kiến diễn ra vào tháng 10. \n",
      "\n",
      "Đoạn văn 3: Hôm 22/8, Quỳnh Chi cho biết đã thử xong váy cưới, đang cùng bạn trai hoàn thiện những khâu cuối cho hôn lễ dự kiến diễn ra vào tháng 10. \n",
      "\n",
      "Đoạn văn 4: Thời gian qua, Quỳnh Chi chỉ tham gia một số chương trình đặc biệt, phần lón thời gian dành để phát triển sự nghiệp thiết kế, thương hiệu riêng. Cô nói bước đi này không phải là sự bốc đồng mà nằm trong tính toán từ lâu. \n",
      "\n",
      "Đoạn văn 5: Thời gian qua, Quỳnh Chi chỉ tham gia một số chương trình đặc biệt, phần lón thời gian dành để phát triển sự nghiệp thiết kế, thương hiệu riêng. Cô nói bước đi này không phải là sự bốc đồng mà nằm trong tính toán từ lâu. \n",
      "\n",
      "Đoạn văn 6: Thỉnh thoảng, Quỳnh Chi cùng bạn bè, gia đình đi du lịch nghỉ dưỡng.\n",
      "\n",
      "Đoạn văn 7: Thỉnh thoảng, Quỳnh Chi cùng bạn bè, gia đình đi du lịch nghỉ dưỡng.\n",
      "\n",
      "Đoạn văn 8: Thanh Quế\n",
      "\n",
      "Đoạn văn 9: Thanh Quế\n",
      "\n",
      "Đoạn văn 10: Chuyên trang giải trí của VnExpress\n",
      "\n",
      "Đoạn văn 11: Số giấy phép: 70/GP-CBC, Bộ Thông tin và Truyền thông, ngày 22/9/2021\n",
      "\n",
      "Đoạn văn 12: Tổng biên tập: Phạm Văn Hiếu \n",
      "\n",
      "Đoạn văn 13: Email: ngoisao@vnexpress.net  |  Điện thoại: 024 7300 9999 - Ext 4546\n",
      "\n",
      "Đoạn văn 14: Tầng 10, Tòa A FPT Tower, số 10 Phạm Văn Bạch, Dịch Vọng, Cầu Giấy, Hà Nội\n",
      "\n",
      "Đoạn văn 15: Ngôi sao\n",
      "\n"
     ]
    }
   ],
   "source": [
    "import requests\n",
    "from bs4 import BeautifulSoup\n",
    "from transformers import AutoModelForSequenceClassification, AutoTokenizer\n",
    "import torch\n",
    "\n",
    "# Tải mô hình và tokenizer\n",
    "model = AutoModelForSequenceClassification.from_pretrained(\"phobert_fake_news_model/\")\n",
    "tokenizer = AutoTokenizer.from_pretrained(\"phobert_fake_news_model/\")\n",
    "\n",
    "# Hàm trích xuất nội dung văn bản từ một URL\n",
    "def extract_text_from_url(url):\n",
    "    response = requests.get(url)\n",
    "    soup = BeautifulSoup(response.content, 'html.parser')\n",
    "\n",
    "    # Giả định rằng nội dung bài báo nằm trong các thẻ <p>\n",
    "    paragraphs = soup.find_all('p')\n",
    "    text = '\\n'.join([para.get_text() for para in paragraphs])\n",
    "    return text\n",
    "\n",
    "# Hàm dự đoán tin giả cho một đoạn văn\n",
    "def predict_fake_news_hf(text):\n",
    "    inputs = tokenizer(text, return_tensors='pt', truncation=True, padding=True, max_length=500)\n",
    "    with torch.no_grad():\n",
    "        outputs = model(**inputs)\n",
    "    prediction = torch.argmax(outputs.logits, dim=1).item()\n",
    "    return \"Thật\" if prediction == 1 else \"Giả\"\n",
    "\n",
    "# Hàm quét toàn bộ bài báo\n",
    "def scan_article_for_fake_news(url):\n",
    "    # Trích xuất văn bản từ bài báo\n",
    "    article_text = extract_text_from_url(url)\n",
    "    paragraphs = article_text.split('\\n')\n",
    "    \n",
    "    fake_paragraphs = []\n",
    "    total_paragraphs = len(paragraphs)\n",
    "    \n",
    "    # Dự đoán từng đoạn văn\n",
    "    for paragraph in paragraphs:\n",
    "        if paragraph.strip():  # Đảm bảo đoạn văn không trống\n",
    "            result = predict_fake_news_hf(paragraph)\n",
    "            if result == \"Giả\":\n",
    "                fake_paragraphs.append(paragraph)\n",
    "\n",
    "    # Tính toán phần trăm tin giả\n",
    "    fake_percentage = (len(fake_paragraphs) / total_paragraphs) * 100\n",
    "    \n",
    "    # Xuất kết quả\n",
    "    print(f\"Phần trăm tin giả trong bài báo: {fake_percentage:.2f}%\\n\")\n",
    "    \n",
    "    if fake_paragraphs:\n",
    "        print(\"Các đoạn văn là tin giả:\\n\")\n",
    "        for i, para in enumerate(fake_paragraphs, 1):\n",
    "            print(f\"Đoạn văn {i}: {para}\\n\")\n",
    "    else:\n",
    "        print(\"Không phát hiện tin giả trong bài báo này.\")\n",
    "\n",
    "# Ví dụ sử dụng\n",
    "url = \"https://ngoisao.vnexpress.net/cuoc-song-mc-quynh-chi-truoc-khi-ket-hon-o-tuoi-38-4784423.html\"  # Thay bằng URL thực tế của bài báo\n",
    "scan_article_for_fake_news(url)\n"
   ]
  }
 ],
 "metadata": {
  "kernelspec": {
   "display_name": "Python 3",
   "language": "python",
   "name": "python3"
  },
  "language_info": {
   "codemirror_mode": {
    "name": "ipython",
    "version": 3
   },
   "file_extension": ".py",
   "mimetype": "text/x-python",
   "name": "python",
   "nbconvert_exporter": "python",
   "pygments_lexer": "ipython3",
   "version": "3.12.5"
  }
 },
 "nbformat": 4,
 "nbformat_minor": 2
}
